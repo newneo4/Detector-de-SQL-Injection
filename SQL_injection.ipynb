{
  "metadata": {
    "kernelspec": {
      "language": "python",
      "display_name": "Python 3",
      "name": "python3"
    },
    "language_info": {
      "name": "python",
      "version": "3.7.12",
      "mimetype": "text/x-python",
      "codemirror_mode": {
        "name": "ipython",
        "version": 3
      },
      "pygments_lexer": "ipython3",
      "nbconvert_exporter": "python",
      "file_extension": ".py"
    },
    "kaggle": {
      "accelerator": "none",
      "dataSources": [
        {
          "sourceId": 2600626,
          "sourceType": "datasetVersion",
          "datasetId": 538306
        },
        {
          "sourceId": 6771498,
          "sourceType": "datasetVersion",
          "datasetId": 3866735
        }
      ],
      "dockerImageVersionId": 30260,
      "isInternetEnabled": true,
      "language": "python",
      "sourceType": "notebook",
      "isGpuEnabled": false
    },
    "colab": {
      "provenance": [],
      "include_colab_link": true
    }
  },
  "nbformat_minor": 0,
  "nbformat": 4,
  "cells": [
    {
      "cell_type": "markdown",
      "metadata": {
        "id": "view-in-github",
        "colab_type": "text"
      },
      "source": [
        "<a href=\"https://colab.research.google.com/github/newneo4/Detector-de-SQL-Injection/blob/main/SQL_injection.ipynb\" target=\"_parent\"><img src=\"https://colab.research.google.com/assets/colab-badge.svg\" alt=\"Open In Colab\"/></a>"
      ]
    },
    {
      "source": [
        "\n",
        "import os\n",
        "import sys\n",
        "from tempfile import NamedTemporaryFile\n",
        "from urllib.request import urlopen\n",
        "from urllib.parse import unquote, urlparse\n",
        "from urllib.error import HTTPError\n",
        "from zipfile import ZipFile\n",
        "import tarfile\n",
        "import shutil\n",
        "\n",
        "CHUNK_SIZE = 40960\n",
        "DATA_SOURCE_MAPPING = 'sql-injection-dataset:https%3A%2F%2Fstorage.googleapis.com%2Fkaggle-data-sets%2F538306%2F2600626%2Fbundle%2Farchive.zip%3FX-Goog-Algorithm%3DGOOG4-RSA-SHA256%26X-Goog-Credential%3Dgcp-kaggle-com%2540kaggle-161607.iam.gserviceaccount.com%252F20240503%252Fauto%252Fstorage%252Fgoog4_request%26X-Goog-Date%3D20240503T051552Z%26X-Goog-Expires%3D259200%26X-Goog-SignedHeaders%3Dhost%26X-Goog-Signature%3D1af21363d0aaf0935192049cefc78ff12598f12e005791b654e1aa14ad519cd4cb4e93f565ef8474becd2a634b8126fe0fcfbed8312574697ece1ad33b088ff9df30bf79729ef1342f082dce079930bc00570e86a2e4664b8dbaf71edc516675340f68be6c0e0a3cb0dc0ed493aeb31bfd8492c05b6407650d862bae4cbaf186121f96fd7769af06dd28c427a88d434d38681c79fb588567f842507594f9e55d55e73ca3de0b7f2840a3be70634a6c35841f966eb7595f2b504324ab387fdc105e830eef0406ac2f83398bdfa452f1b1f6e433a6bf8d83aed206c915fc51a3f655e9a6c4e5b8368a366a852fffbfbcc80f7cea471b93b140d46d3b0c8cfbaa7a,sqli-xss-dataset:https%3A%2F%2Fstorage.googleapis.com%2Fkaggle-data-sets%2F3866735%2F6771498%2Fbundle%2Farchive.zip%3FX-Goog-Algorithm%3DGOOG4-RSA-SHA256%26X-Goog-Credential%3Dgcp-kaggle-com%2540kaggle-161607.iam.gserviceaccount.com%252F20240503%252Fauto%252Fstorage%252Fgoog4_request%26X-Goog-Date%3D20240503T051552Z%26X-Goog-Expires%3D259200%26X-Goog-SignedHeaders%3Dhost%26X-Goog-Signature%3D319382be2c1d5e1b2fc95a3a7533ec0ec044d3af681a04f03445c146736b3dbbc8eecabf4a0c786f55a49a29c94b2577db26312a72ce209c121cf8b55ee380f5325894efa5e5f2732328caa2c8d48ce3ec257aa258f039642340f7b542740657749f022c60bf5563f6564ba192e086e4002f42757122517864ae108cd138f37d3d622fa800c50617f19ab1bb59559571bbc85456523cc535437eddc8a11ed7fbb9cdf0292d26d8c82fe8a4a5d5a337716399144d4685a118494a32c3f3e14581218f4b31f46c307cd9c0f781e9e3dd5878f865d483486a86c902725b034129dcda9c6c4d21aed052184fbcfc47bc5da0421c977609512ec3c2c584930a02e7ea'\n",
        "\n",
        "KAGGLE_INPUT_PATH='/kaggle/input'\n",
        "KAGGLE_WORKING_PATH='/kaggle/working'\n",
        "KAGGLE_SYMLINK='kaggle'\n",
        "\n",
        "!umount /kaggle/input/ 2> /dev/null\n",
        "shutil.rmtree('/kaggle/input', ignore_errors=True)\n",
        "os.makedirs(KAGGLE_INPUT_PATH, 0o777, exist_ok=True)\n",
        "os.makedirs(KAGGLE_WORKING_PATH, 0o777, exist_ok=True)\n",
        "\n",
        "try:\n",
        "  os.symlink(KAGGLE_INPUT_PATH, os.path.join(\"..\", 'input'), target_is_directory=True)\n",
        "except FileExistsError:\n",
        "  pass\n",
        "try:\n",
        "  os.symlink(KAGGLE_WORKING_PATH, os.path.join(\"..\", 'working'), target_is_directory=True)\n",
        "except FileExistsError:\n",
        "  pass\n",
        "\n",
        "for data_source_mapping in DATA_SOURCE_MAPPING.split(','):\n",
        "    directory, download_url_encoded = data_source_mapping.split(':')\n",
        "    download_url = unquote(download_url_encoded)\n",
        "    filename = urlparse(download_url).path\n",
        "    destination_path = os.path.join(KAGGLE_INPUT_PATH, directory)\n",
        "    try:\n",
        "        with urlopen(download_url) as fileres, NamedTemporaryFile() as tfile:\n",
        "            total_length = fileres.headers['content-length']\n",
        "            print(f'Downloading {directory}, {total_length}')\n",
        "            dl = 0\n",
        "            data = fileres.read(CHUNK_SIZE)\n",
        "            while len(data) > 0:\n",
        "                dl += len(data)\n",
        "                tfile.write(data)\n",
        "                done = int(50 * dl / int(total_length))\n",
        "                sys.stdout.write(f\"\\r[{'=' * done}{' ' * (50-done)}] {dl}\")\n",
        "                sys.stdout.flush()\n",
        "                data = fileres.read(CHUNK_SIZE)\n",
        "            if filename.endswith('.zip'):\n",
        "              with ZipFile(tfile) as zfile:\n",
        "                zfile.extractall(destination_path)\n",
        "            else:\n",
        "              with tarfile.open(tfile.name) as tarfile:\n",
        "                tarfile.extractall(destination_path)\n",
        "            print(f'\\nDescargado y descomprimido: {directory}')\n",
        "    except HTTPError as e:\n",
        "        print(f'Error al cargar datos {download_url} en el directorio {destination_path}')\n",
        "        continue\n",
        "    except OSError as e:\n",
        "        print(f'Error el cargar datos {download_url} en el directorio {destination_path}')\n",
        "        continue\n",
        "\n",
        "print('Data source import complete.')\n"
      ],
      "metadata": {
        "id": "4VaWpLa34Wh_"
      },
      "cell_type": "code",
      "outputs": [],
      "execution_count": null
    },
    {
      "cell_type": "markdown",
      "source": [
        "**IMPORTS**"
      ],
      "metadata": {
        "_uuid": "8f2839f25d086af736a60e9eeb907d3b93b6e0e5",
        "_cell_guid": "b1076dfc-b9ad-4769-8c92-a6c4dae69d19",
        "execution": {
          "iopub.status.busy": "2021-11-22T13:14:38.96648Z",
          "iopub.execute_input": "2021-11-22T13:14:38.967409Z",
          "iopub.status.idle": "2021-11-22T13:14:38.994955Z",
          "shell.execute_reply.started": "2021-11-22T13:14:38.967308Z",
          "shell.execute_reply": "2021-11-22T13:14:38.993808Z"
        },
        "id": "IMPVZK2F683D"
      }
    },
    {
      "cell_type": "code",
      "source": [
        "\n",
        "import numpy as np\n",
        "import pandas as pd\n",
        "\n",
        "import os\n",
        "for dirname, _, filenames in os.walk('/kaggle/input'):\n",
        "    for filename in filenames:\n",
        "        print(os.path.join(dirname, filename))"
      ],
      "metadata": {
        "execution": {
          "iopub.status.busy": "2023-12-13T04:57:56.995557Z",
          "iopub.execute_input": "2023-12-13T04:57:56.995992Z",
          "iopub.status.idle": "2023-12-13T04:57:57.021238Z",
          "shell.execute_reply.started": "2023-12-13T04:57:56.995957Z",
          "shell.execute_reply": "2023-12-13T04:57:57.019259Z"
        },
        "trusted": true,
        "id": "fjo4rzZJ4WiG"
      },
      "execution_count": null,
      "outputs": []
    },
    {
      "cell_type": "code",
      "source": [
        "import numpy as np\n",
        "import pandas as pd\n",
        "import matplotlib.pyplot as plt\n",
        "from sklearn.feature_extraction.text import CountVectorizer\n",
        "from sklearn.model_selection import train_test_split\n",
        "from nltk.corpus import stopwords\n",
        "from sklearn.metrics import accuracy_score, f1_score\n",
        "from sklearn.linear_model import LogisticRegression\n",
        "from sklearn.ensemble import RandomForestClassifier\n",
        "from sklearn.svm import SVC\n",
        "from sklearn.naive_bayes import GaussianNB\n",
        "import tensorflow as tf\n",
        "from tensorflow.keras.utils import plot_model\n",
        "from sklearn import tree\n",
        "from tensorflow.keras import models, layers\n",
        "import warnings\n",
        "\n",
        "from sklearn.metrics import confusion_matrix, classification_report, f1_score, precision_score, recall_score, accuracy_score\n",
        "from sklearn.metrics import precision_recall_curve,precision_recall_fscore_support\n",
        "import seaborn as sns\n",
        "warnings.filterwarnings('ignore')"
      ],
      "metadata": {
        "execution": {
          "iopub.status.busy": "2023-12-13T04:58:00.866039Z",
          "iopub.execute_input": "2023-12-13T04:58:00.866449Z",
          "iopub.status.idle": "2023-12-13T04:58:00.877588Z",
          "shell.execute_reply.started": "2023-12-13T04:58:00.866416Z",
          "shell.execute_reply": "2023-12-13T04:58:00.875224Z"
        },
        "trusted": true,
        "id": "CwZulsiX4WiH"
      },
      "execution_count": null,
      "outputs": []
    },
    {
      "cell_type": "markdown",
      "source": [
        "**Limpiado del dataset**"
      ],
      "metadata": {
        "id": "ihxnBsmj4WiH"
      }
    },
    {
      "cell_type": "code",
      "source": [
        "df2 = pd.read_csv('/kaggle/input/sqli-xss-dataset/SQLInjection_XSS_MixDataset.1.0.0.csv')\n",
        "columnas_a_eliminar = ['XSS', 'Normal']\n",
        "df2 = df2.sample(10000)\n",
        "df2 = df2.drop(columns=columnas_a_eliminar)\n",
        "df2['SQLInjection'] = df2['SQLInjection'].astype(int)\n",
        "print(\"Data Shape:\", df2.shape)\n",
        "df2.head(10)"
      ],
      "metadata": {
        "execution": {
          "iopub.status.busy": "2023-12-13T05:28:07.474859Z",
          "iopub.execute_input": "2023-12-13T05:28:07.475345Z",
          "iopub.status.idle": "2023-12-13T05:28:08.278384Z",
          "shell.execute_reply.started": "2023-12-13T05:28:07.475312Z",
          "shell.execute_reply": "2023-12-13T05:28:08.277399Z"
        },
        "trusted": true,
        "id": "VAYRkGNg4WiI"
      },
      "execution_count": null,
      "outputs": []
    },
    {
      "cell_type": "markdown",
      "source": [
        "**CARGA Y PREPROCESADO DE DATOS**"
      ],
      "metadata": {
        "id": "zq84qpPI683M"
      }
    },
    {
      "cell_type": "code",
      "source": [
        "path = '../input/sql-injection-dataset/'\n",
        "df = pd.read_csv(path + \"sqli.csv\", encoding='utf-16')\n",
        "print(\"Data Shape:\", df.shape)\n",
        "df.head(10)"
      ],
      "metadata": {
        "id": "pwXfL2xxEwaM",
        "execution": {
          "iopub.status.busy": "2023-12-13T05:04:24.733907Z",
          "iopub.execute_input": "2023-12-13T05:04:24.734475Z",
          "iopub.status.idle": "2023-12-13T05:04:24.771144Z",
          "shell.execute_reply.started": "2023-12-13T05:04:24.734433Z",
          "shell.execute_reply": "2023-12-13T05:04:24.76943Z"
        },
        "trusted": true
      },
      "execution_count": null,
      "outputs": []
    },
    {
      "cell_type": "markdown",
      "source": [
        "**DATASET 1**"
      ],
      "metadata": {
        "id": "1vqVseW44WiK"
      }
    },
    {
      "cell_type": "code",
      "source": [
        "X = df['Sentence']\n",
        "y = df['Label']\n",
        "print(X.shape, y.shape)\n",
        "print(\"Dataset Input:\", \"\\n\", X.head(5))\n",
        "print(\"Dataset Label:\", \"\\n\", y.head(5))"
      ],
      "metadata": {
        "id": "B6OuxIyx683N",
        "_kg_hide-output": true,
        "_kg_hide-input": true,
        "execution": {
          "iopub.status.busy": "2023-12-13T05:04:27.674175Z",
          "iopub.execute_input": "2023-12-13T05:04:27.67459Z",
          "iopub.status.idle": "2023-12-13T05:04:27.687189Z",
          "shell.execute_reply.started": "2023-12-13T05:04:27.674555Z",
          "shell.execute_reply": "2023-12-13T05:04:27.685121Z"
        },
        "trusted": true
      },
      "execution_count": null,
      "outputs": []
    },
    {
      "cell_type": "markdown",
      "source": [
        "**DATASET 2**"
      ],
      "metadata": {
        "id": "omXTuwSX4WiK"
      }
    },
    {
      "cell_type": "code",
      "source": [
        "df2 = df2.rename(columns={'SQLInjection': 'Label'})\n",
        "X2 = df2['Sentence']\n",
        "y2 = df2['Label']\n",
        "print(X2.shape, y2.shape)\n",
        "print(\"Dataset Input:\", \"\\n\", X2.head(5))\n",
        "print(\"Dataset Label:\", \"\\n\", y2.head(5))"
      ],
      "metadata": {
        "execution": {
          "iopub.status.busy": "2023-12-13T05:28:16.206311Z",
          "iopub.execute_input": "2023-12-13T05:28:16.206852Z",
          "iopub.status.idle": "2023-12-13T05:28:16.222343Z",
          "shell.execute_reply.started": "2023-12-13T05:28:16.206807Z",
          "shell.execute_reply": "2023-12-13T05:28:16.221173Z"
        },
        "trusted": true,
        "id": "fiqX4erQ4WiK"
      },
      "execution_count": null,
      "outputs": []
    },
    {
      "cell_type": "code",
      "source": [
        "import nltk\n",
        "nltk.download('stopwords')\n",
        "vectorizer = CountVectorizer(min_df = 2, max_df = 0.8, stop_words = stopwords.words('english'))\n",
        "X = vectorizer.fit_transform(X.values.astype('U')).toarray()"
      ],
      "metadata": {
        "execution": {
          "iopub.status.busy": "2023-12-13T05:04:56.960044Z",
          "iopub.execute_input": "2023-12-13T05:04:56.960572Z",
          "iopub.status.idle": "2023-12-13T05:04:57.148554Z",
          "shell.execute_reply.started": "2023-12-13T05:04:56.960527Z",
          "shell.execute_reply": "2023-12-13T05:04:57.146215Z"
        },
        "trusted": true,
        "id": "kB4XgtQW4WiL"
      },
      "execution_count": null,
      "outputs": []
    },
    {
      "cell_type": "code",
      "source": [
        "import nltk\n",
        "nltk.download('stopwords')\n",
        "vectorizer = CountVectorizer(min_df = 2, max_df = 0.8, stop_words = stopwords.words('english'))\n",
        "X2 = vectorizer.fit_transform(X2.values.astype('U')).toarray()"
      ],
      "metadata": {
        "execution": {
          "iopub.status.busy": "2023-12-13T05:28:32.932446Z",
          "iopub.execute_input": "2023-12-13T05:28:32.934969Z",
          "iopub.status.idle": "2023-12-13T05:28:33.940562Z",
          "shell.execute_reply.started": "2023-12-13T05:28:32.934871Z",
          "shell.execute_reply": "2023-12-13T05:28:33.938229Z"
        },
        "trusted": true,
        "id": "3o3dAoNX4WiL"
      },
      "execution_count": null,
      "outputs": []
    },
    {
      "cell_type": "markdown",
      "source": [
        "**DATASET 1**"
      ],
      "metadata": {
        "id": "P8JtduJ64WiL"
      }
    },
    {
      "cell_type": "code",
      "source": [
        "X_train, X_test, y_train, y_test = train_test_split(X, y, test_size = 0.2)\n",
        "print(X_train.shape)\n",
        "print(y_train.shape)\n",
        "print(X_test.shape)\n",
        "print(y_test.shape)"
      ],
      "metadata": {
        "id": "ab38XMjUE0ct",
        "execution": {
          "iopub.status.busy": "2023-12-13T05:05:03.256005Z",
          "iopub.execute_input": "2023-12-13T05:05:03.256444Z",
          "iopub.status.idle": "2023-12-13T05:05:03.324384Z",
          "shell.execute_reply.started": "2023-12-13T05:05:03.25641Z",
          "shell.execute_reply": "2023-12-13T05:05:03.321893Z"
        },
        "trusted": true
      },
      "execution_count": null,
      "outputs": []
    },
    {
      "cell_type": "markdown",
      "source": [
        "**DATASET 2**"
      ],
      "metadata": {
        "id": "91Xe7ZjW4WiL"
      }
    },
    {
      "cell_type": "code",
      "source": [
        "X2_train, X2_test, y2_train, y2_test = train_test_split(X2, y2, test_size = 0.2)\n",
        "print(X2_train.shape)\n",
        "print(y2_train.shape)\n",
        "print(X2_test.shape)\n",
        "print(y2_test.shape)"
      ],
      "metadata": {
        "execution": {
          "iopub.status.busy": "2023-12-13T05:28:36.367939Z",
          "iopub.execute_input": "2023-12-13T05:28:36.369633Z",
          "iopub.status.idle": "2023-12-13T05:28:36.915071Z",
          "shell.execute_reply.started": "2023-12-13T05:28:36.369583Z",
          "shell.execute_reply": "2023-12-13T05:28:36.913306Z"
        },
        "trusted": true,
        "id": "UoTY7fqr4WiM"
      },
      "execution_count": null,
      "outputs": []
    },
    {
      "cell_type": "code",
      "source": [
        "import numpy as np\n",
        "\n",
        "# Suponiendo que 'y2_train' es tu variable objetivo en el conjunto de entrenamiento\n",
        "# y2_train = ... (tus etiquetas de entrenamiento)\n",
        "\n",
        "# Verificar la distribución de clases\n",
        "clases_unicas = np.unique(y2_train)\n",
        "cantidad_clases = len(clases_unicas)\n",
        "\n",
        "print(\"Clases únicas presentes en y2_train:\", clases_unicas)\n",
        "print(\"Cantidad de clases:\", cantidad_clases)\n"
      ],
      "metadata": {
        "execution": {
          "iopub.status.busy": "2023-12-13T05:28:48.634446Z",
          "iopub.execute_input": "2023-12-13T05:28:48.635035Z",
          "iopub.status.idle": "2023-12-13T05:28:48.645207Z",
          "shell.execute_reply.started": "2023-12-13T05:28:48.634985Z",
          "shell.execute_reply": "2023-12-13T05:28:48.642558Z"
        },
        "trusted": true,
        "id": "RFU0Sbd24WiM"
      },
      "execution_count": null,
      "outputs": []
    },
    {
      "cell_type": "code",
      "source": [
        "import numpy as np\n",
        "\n",
        "unos = np.count_nonzero(X_train)\n",
        "ceros = X_train.size - unos\n",
        "\n",
        "print(\"Cantidad de ceros:\", ceros)\n",
        "print(\"Cantidad de unos:\", unos)"
      ],
      "metadata": {
        "execution": {
          "iopub.status.busy": "2023-12-13T05:18:42.927876Z",
          "iopub.execute_input": "2023-12-13T05:18:42.928396Z",
          "iopub.status.idle": "2023-12-13T05:18:42.963983Z",
          "shell.execute_reply.started": "2023-12-13T05:18:42.928364Z",
          "shell.execute_reply": "2023-12-13T05:18:42.961901Z"
        },
        "trusted": true,
        "id": "NBNNPvoT4WiM"
      },
      "execution_count": null,
      "outputs": []
    },
    {
      "cell_type": "markdown",
      "source": [
        "**DATASET 1**"
      ],
      "metadata": {
        "id": "HTWT9x234WiM"
      }
    },
    {
      "cell_type": "code",
      "source": [
        "f1_dict = {}\n",
        "precision_dict = {}\n",
        "recall_dict = {}\n",
        "accuracy_dict = {}\n",
        "train_accuracy = {}\n",
        "validation_accuracy = {}\n",
        "test_accuracy = {}"
      ],
      "metadata": {
        "id": "4tRntf4etCpz",
        "execution": {
          "iopub.status.busy": "2023-12-13T05:30:05.626687Z",
          "iopub.execute_input": "2023-12-13T05:30:05.627282Z",
          "iopub.status.idle": "2023-12-13T05:30:05.635833Z",
          "shell.execute_reply.started": "2023-12-13T05:30:05.627236Z",
          "shell.execute_reply": "2023-12-13T05:30:05.634069Z"
        },
        "trusted": true
      },
      "execution_count": null,
      "outputs": []
    },
    {
      "cell_type": "markdown",
      "source": [
        "**DATASET 2**"
      ],
      "metadata": {
        "id": "KF6_-LZ_4WiM"
      }
    },
    {
      "cell_type": "code",
      "source": [
        "f1_dict2 = {}\n",
        "precision_dict2 = {}\n",
        "recall_dict2 = {}\n",
        "accuracy_dict2 = {}\n",
        "train_accuracy2 = {}\n",
        "validation_accuracy2 = {}\n",
        "test_accuracy2 = {}"
      ],
      "metadata": {
        "execution": {
          "iopub.status.busy": "2023-12-13T05:29:30.587447Z",
          "iopub.execute_input": "2023-12-13T05:29:30.587975Z",
          "iopub.status.idle": "2023-12-13T05:29:30.596104Z",
          "shell.execute_reply.started": "2023-12-13T05:29:30.587926Z",
          "shell.execute_reply": "2023-12-13T05:29:30.593917Z"
        },
        "trusted": true,
        "id": "q_F4p9t44WiN"
      },
      "execution_count": null,
      "outputs": []
    },
    {
      "cell_type": "markdown",
      "source": [
        "**LOGISTIC REGRESSION DATASET 1**"
      ],
      "metadata": {
        "id": "DgotjNrO683P"
      }
    },
    {
      "cell_type": "code",
      "source": [
        "lr_clf = LogisticRegression()\n",
        "y_pred_lr = lr_clf.fit(X_train, y_train)\n",
        "y_pred = y_pred_lr.predict(X_test)\n",
        "print(f\"Accuracy of Logistic Regression on test set : {accuracy_score(y_pred, y_test)}\")\n",
        "print(f\"F1 Score of Logistic Regression on test set : {f1_score(y_pred, y_test)}\")\n",
        "\n",
        "f1_dict[\"LogisticRegression\"] = f1_score(y_pred, y_test)\n",
        "precision_dict[\"LogisticRegression\"] = precision_score(y_pred, y_test)\n",
        "recall_dict[\"LogisticRegression\"] = recall_score(y_pred, y_test)\n",
        "accuracy_dict['LogisticRegression'] = accuracy_score(y_pred, y_test)"
      ],
      "metadata": {
        "id": "hN1rIraz683Q",
        "execution": {
          "iopub.status.busy": "2023-12-13T05:31:28.385207Z",
          "iopub.execute_input": "2023-12-13T05:31:28.38567Z",
          "iopub.status.idle": "2023-12-13T05:31:28.814001Z",
          "shell.execute_reply.started": "2023-12-13T05:31:28.385632Z",
          "shell.execute_reply": "2023-12-13T05:31:28.809881Z"
        },
        "trusted": true
      },
      "execution_count": null,
      "outputs": []
    },
    {
      "cell_type": "markdown",
      "source": [
        "**LOGISTIC REGRESSION DATASET 2**"
      ],
      "metadata": {
        "id": "K3Ti0WSl4WiN"
      }
    },
    {
      "cell_type": "code",
      "source": [
        "lr_clf2 = LogisticRegression()\n",
        "y2_pred_lr = lr_clf2.fit(X2_train, y2_train)\n",
        "y2_pred = y2_pred_lr.predict(X2_test)\n",
        "print(f\"Accuracy of Logistic Regression on test set : {accuracy_score(y2_pred, y2_test)}\")\n",
        "print(f\"F1 Score of Logistic Regression on test set : {f1_score(y2_pred, y2_test)}\")\n",
        "\n",
        "f1_dict2[\"LogisticRegression\"] = f1_score(y2_pred, y2_test)\n",
        "precision_dict2[\"LogisticRegression\"] = precision_score(y2_pred, y2_test)\n",
        "recall_dict2[\"LogisticRegression\"] = recall_score(y2_pred, y2_test)\n",
        "accuracy_dict2['LogisticRegression'] = accuracy_score(y2_pred, y2_test)"
      ],
      "metadata": {
        "execution": {
          "iopub.status.busy": "2023-12-13T05:31:18.146426Z",
          "iopub.execute_input": "2023-12-13T05:31:18.147024Z",
          "iopub.status.idle": "2023-12-13T05:31:25.357642Z",
          "shell.execute_reply.started": "2023-12-13T05:31:18.146981Z",
          "shell.execute_reply": "2023-12-13T05:31:25.356585Z"
        },
        "trusted": true,
        "id": "CnFrqi2Y4WiN"
      },
      "execution_count": null,
      "outputs": []
    },
    {
      "cell_type": "markdown",
      "source": [
        "**RANDOM FOREST**"
      ],
      "metadata": {
        "id": "DrntARHO683R"
      }
    },
    {
      "cell_type": "markdown",
      "source": [
        "**DATASET 1**"
      ],
      "metadata": {
        "id": "hAeJn4r14WiN"
      }
    },
    {
      "cell_type": "code",
      "source": [
        "rf_clf = RandomForestClassifier()\n",
        "rf_clf.fit(X_train, y_train)\n",
        "y_pred = rf_clf.predict(X_test)\n",
        "print(f\"Precision de Random Forest en el conjunto de datos : {accuracy_score(y_pred, y_test)}\")\n",
        "print(f\"Puntuacion F1 en el conjunto de datos : {f1_score(y_pred, y_test)}\")\n",
        "\n",
        "f1_dict[\"RandomForest\"] = f1_score(y_pred, y_test)\n",
        "precision_dict[\"RandomForest\"] = precision_score(y_pred, y_test)\n",
        "recall_dict[\"RandomForest\"] = recall_score(y_pred, y_test)\n",
        "accuracy_dict['RandomForest'] = accuracy_score(y_pred, y_test)"
      ],
      "metadata": {
        "id": "Ad6-zNAR683S",
        "execution": {
          "iopub.status.busy": "2023-12-13T05:33:03.318091Z",
          "iopub.execute_input": "2023-12-13T05:33:03.318551Z",
          "iopub.status.idle": "2023-12-13T05:33:09.11528Z",
          "shell.execute_reply.started": "2023-12-13T05:33:03.318512Z",
          "shell.execute_reply": "2023-12-13T05:33:09.113317Z"
        },
        "trusted": true
      },
      "execution_count": null,
      "outputs": []
    },
    {
      "cell_type": "markdown",
      "source": [
        "**DATASET 2**"
      ],
      "metadata": {
        "id": "3keuCPYl4WiO"
      }
    },
    {
      "cell_type": "code",
      "source": [
        "rf_clf2 = RandomForestClassifier()\n",
        "rf_clf2.fit(X2_train, y2_train)\n",
        "y2_pred = rf_clf2.predict(X2_test)\n",
        "print(f\"Precision de Random Forest en el conjunto de datos : : {accuracy_score(y2_pred, y2_test)}\")\n",
        "print(f\"Puntuacion F1 en el conjunto de datos : {f1_score(y2_pred, y2_test)}\")\n",
        "\n",
        "f1_dict2[\"RandomForest\"] = f1_score(y2_pred, y2_test)\n",
        "precision_dict2[\"RandomForest\"] = precision_score(y2_pred, y2_test)\n",
        "recall_dict2[\"RandomForest\"] = recall_score(y2_pred, y2_test)\n",
        "accuracy_dict2['RandomForest'] = accuracy_score(y2_pred, y2_test)"
      ],
      "metadata": {
        "execution": {
          "iopub.status.busy": "2023-12-13T05:33:12.10379Z",
          "iopub.execute_input": "2023-12-13T05:33:12.104301Z",
          "iopub.status.idle": "2023-12-13T05:33:39.16031Z",
          "shell.execute_reply.started": "2023-12-13T05:33:12.104261Z",
          "shell.execute_reply": "2023-12-13T05:33:39.159166Z"
        },
        "trusted": true,
        "id": "rmsrRd9W4WiO"
      },
      "execution_count": null,
      "outputs": []
    },
    {
      "cell_type": "markdown",
      "source": [
        "**SUPPORT VECTOR MACHINES**"
      ],
      "metadata": {
        "id": "I-TM5IRV683T"
      }
    },
    {
      "cell_type": "markdown",
      "source": [
        "**DATASET 1**"
      ],
      "metadata": {
        "id": "R8xkjJaq4WiO"
      }
    },
    {
      "cell_type": "code",
      "source": [
        "svm_clf = SVC(gamma = 'auto')\n",
        "svm_clf.fit(X_train, y_train)\n",
        "y_pred = svm_clf.predict(X_test)\n",
        "print(f\"Precision de SVM en el conjunto de datos : {accuracy_score(y_pred, y_test)}\")\n",
        "print(f\"Puntuacion F1 en el conjunto de datos : {f1_score(y_pred, y_test)}\")\n",
        "\n",
        "f1_dict[\"SVM\"] = f1_score(y_pred, y_test)\n",
        "precision_dict[\"SVM\"] = precision_score(y_pred, y_test)\n",
        "recall_dict[\"SVM\"] = recall_score(y_pred, y_test)\n",
        "accuracy_dict['SVM'] = accuracy_score(y_pred, y_test)"
      ],
      "metadata": {
        "id": "BLbz8NpW683T",
        "execution": {
          "iopub.status.busy": "2023-12-13T05:52:16.180437Z",
          "iopub.execute_input": "2023-12-13T05:52:16.180886Z",
          "iopub.status.idle": "2023-12-13T05:52:33.46034Z",
          "shell.execute_reply.started": "2023-12-13T05:52:16.180846Z",
          "shell.execute_reply": "2023-12-13T05:52:33.458883Z"
        },
        "trusted": true
      },
      "execution_count": null,
      "outputs": []
    },
    {
      "cell_type": "markdown",
      "source": [
        "**DATASET 2**"
      ],
      "metadata": {
        "id": "cxjn-pg44WiO"
      }
    },
    {
      "cell_type": "code",
      "source": [
        "svm_clf2 = SVC(gamma = 'auto')\n",
        "svm_clf2.fit(X2_train, y2_train)\n",
        "y2_pred = svm_clf2.predict(X2_test)\n",
        "print(f\"Precision de SVM en el conjunto de datos : {accuracy_score(y2_pred, y2_test)}\")\n",
        "print(f\"Puntuacion F1 en el conjunto de datos : {f1_score(y2_pred, y2_test)}\")\n",
        "\n",
        "f1_dict2[\"SVM\"] = f1_score(y2_pred, y2_test)\n",
        "precision_dict2[\"SVM\"] = precision_score(y2_pred, y2_test)\n",
        "recall_dict2[\"SVM\"] = recall_score(y2_pred, y2_test)\n",
        "accuracy_dict2['SVM'] = accuracy_score(y2_pred, y2_test)"
      ],
      "metadata": {
        "execution": {
          "iopub.status.busy": "2023-12-13T05:43:51.311247Z",
          "iopub.execute_input": "2023-12-13T05:43:51.311733Z",
          "iopub.status.idle": "2023-12-13T05:52:16.178176Z",
          "shell.execute_reply.started": "2023-12-13T05:43:51.311691Z",
          "shell.execute_reply": "2023-12-13T05:52:16.174676Z"
        },
        "trusted": true,
        "id": "fIBYddrW4WiO"
      },
      "execution_count": null,
      "outputs": []
    },
    {
      "cell_type": "markdown",
      "source": [
        "**NAIVE BAYES**"
      ],
      "metadata": {
        "id": "eBUdKeBH683U"
      }
    },
    {
      "cell_type": "markdown",
      "source": [
        "**DATASET 1**"
      ],
      "metadata": {
        "id": "lVJ2gwi74WiT"
      }
    },
    {
      "cell_type": "code",
      "source": [
        "nb_clf = GaussianNB()\n",
        "nb_clf.fit(X_train, y_train)\n",
        "y_pred = nb_clf.predict(X_test)\n",
        "print(f\"Precision de Naive Bayes en el conjunto de datos : {accuracy_score(y_pred, y_test)}\")\n",
        "print(f\"Puntuacion F1 en el conjunto de datos : {f1_score(y_pred, y_test)}\")\n",
        "\n",
        "f1_dict[\"NaiveBayes\"] = f1_score(y_pred, y_test)\n",
        "precision_dict[\"NaiveBayes\"] = precision_score(y_pred, y_test)\n",
        "recall_dict[\"NaiveBayes\"] = recall_score(y_pred, y_test)\n",
        "accuracy_dict['NaiveBayes'] = accuracy_score(y_pred, y_test)"
      ],
      "metadata": {
        "id": "U0oiBYMU683V",
        "execution": {
          "iopub.status.busy": "2023-12-13T06:10:13.074775Z",
          "iopub.execute_input": "2023-12-13T06:10:13.075413Z",
          "iopub.status.idle": "2023-12-13T06:10:13.305346Z",
          "shell.execute_reply.started": "2023-12-13T06:10:13.075357Z",
          "shell.execute_reply": "2023-12-13T06:10:13.304412Z"
        },
        "trusted": true
      },
      "execution_count": null,
      "outputs": []
    },
    {
      "cell_type": "markdown",
      "source": [
        "**DATASET 2**"
      ],
      "metadata": {
        "id": "QkTzhtGq4WiT"
      }
    },
    {
      "cell_type": "code",
      "source": [
        "nb_clf2 = GaussianNB()\n",
        "nb_clf2.fit(X2_train, y2_train)\n",
        "y2_pred = nb_clf2.predict(X2_test)\n",
        "print(f\"Precision de Naive Bayes en el conjunto de datos : {accuracy_score(y2_pred, y2_test)}\")\n",
        "print(f\"Puntuacion F1 en el conjunto de datos : {f1_score(y2_pred, y2_test)}\")\n",
        "\n",
        "f1_dict2[\"NaiveBayes\"] = f1_score(y2_pred, y2_test)\n",
        "precision_dict2[\"NaiveBayes\"] = precision_score(y2_pred, y2_test)\n",
        "recall_dict2[\"NaiveBayes\"] = recall_score(y2_pred, y2_test)\n",
        "accuracy_dict2['NaiveBayes'] = accuracy_score(y2_pred, y2_test)"
      ],
      "metadata": {
        "execution": {
          "iopub.status.busy": "2023-12-13T06:10:32.893464Z",
          "iopub.execute_input": "2023-12-13T06:10:32.893928Z",
          "iopub.status.idle": "2023-12-13T06:10:34.18777Z",
          "shell.execute_reply.started": "2023-12-13T06:10:32.893893Z",
          "shell.execute_reply": "2023-12-13T06:10:34.186728Z"
        },
        "trusted": true,
        "id": "L5OgdvHw4WiT"
      },
      "execution_count": null,
      "outputs": []
    },
    {
      "cell_type": "markdown",
      "source": [
        "**DECISION TREES**\n"
      ],
      "metadata": {
        "id": "7aRsJyZiGSy-"
      }
    },
    {
      "cell_type": "markdown",
      "source": [
        "**DATASET 1**"
      ],
      "metadata": {
        "id": "ynuA91uw4WiT"
      }
    },
    {
      "cell_type": "code",
      "source": [
        "DT = tree.DecisionTreeClassifier()\n",
        "DT.fit(X_train, y_train)\n",
        "y_pred = DT.predict(X_test)\n",
        "print(f\"Precision del arbol de decision en el conjunto de datos : {accuracy_score(y_pred, y_test)}\")\n",
        "print(f\"Puntuacion F1 en el conjunto de datos : {f1_score(y_pred, y_test)}\")\n",
        "\n",
        "f1_dict[\"DecisionTree\"] = f1_score(y_pred, y_test)\n",
        "precision_dict[\"DecisionTree\"] = precision_score(y_pred, y_test)\n",
        "recall_dict[\"DecisionTree\"] = recall_score(y_pred, y_test)\n",
        "accuracy_dict['DecisionTree'] = accuracy_score(y_pred, y_test)"
      ],
      "metadata": {
        "id": "t4zC42NwGSKe",
        "execution": {
          "iopub.status.busy": "2023-12-13T06:07:17.847517Z",
          "iopub.execute_input": "2023-12-13T06:07:17.84814Z",
          "iopub.status.idle": "2023-12-13T06:07:23.289735Z",
          "shell.execute_reply.started": "2023-12-13T06:07:17.848091Z",
          "shell.execute_reply": "2023-12-13T06:07:23.288526Z"
        },
        "trusted": true
      },
      "execution_count": null,
      "outputs": []
    },
    {
      "cell_type": "markdown",
      "source": [
        "**DATASET 2**"
      ],
      "metadata": {
        "id": "EBIA2sVU4WiU"
      }
    },
    {
      "cell_type": "code",
      "source": [
        "DT2 = tree.DecisionTreeClassifier()\n",
        "DT2.fit(X2_train, y2_train)\n",
        "y2_pred = DT2.predict(X2_test)\n",
        "print(f\"Precision del arbol de decision en el conjunto de datos : {accuracy_score(y2_pred, y2_test)}\")\n",
        "print(f\"Puntuacion F1 en el conjunto de datos : {f1_score(y2_pred, y2_test)}\")\n",
        "\n",
        "f1_dict2[\"DecisionTree\"] = f1_score(y2_pred, y2_test)\n",
        "precision_dict2[\"DecisionTree\"] = precision_score(y2_pred, y2_test)\n",
        "recall_dict2[\"DecisionTree\"] = recall_score(y2_pred, y2_test)\n",
        "accuracy_dict2['DecisionTree'] = accuracy_score(y2_pred, y2_test)"
      ],
      "metadata": {
        "execution": {
          "iopub.status.busy": "2023-12-13T06:08:28.099993Z",
          "iopub.execute_input": "2023-12-13T06:08:28.100475Z",
          "iopub.status.idle": "2023-12-13T06:08:48.240202Z",
          "shell.execute_reply.started": "2023-12-13T06:08:28.100441Z",
          "shell.execute_reply": "2023-12-13T06:08:48.239069Z"
        },
        "trusted": true,
        "id": "Vxu7bw884WiU"
      },
      "execution_count": null,
      "outputs": []
    },
    {
      "cell_type": "markdown",
      "source": [
        "**CONVOLUTIONAL NEURAL NETWORK**"
      ],
      "metadata": {
        "id": "Gxs5Buge683V"
      }
    },
    {
      "cell_type": "code",
      "source": [
        "def plot_history(history):\n",
        "    history_dict = history.history\n",
        "    train_loss = history_dict['loss']\n",
        "    val_loss = history_dict['val_loss']\n",
        "    epochs = range(1, len(history_dict['loss'])+1)\n",
        "    plt.plot(epochs, train_loss,'b', label='Training error')\n",
        "    plt.plot(epochs, val_loss,'b', color=\"orange\", label='Validation error')\n",
        "    plt.title('Training and Validation Loss')\n",
        "    plt.xlabel('Epochs')\n",
        "    plt.ylabel('Loss')\n",
        "    plt.legend()\n",
        "    plt.show()\n",
        "\n",
        "def plot_historyAcc(history):\n",
        "    history_dict = history.history\n",
        "    train_acc = history_dict['accuracy']\n",
        "    val_acc = history_dict['val_accuracy']\n",
        "    epochs = range(1, len(history_dict['accuracy'])+1)\n",
        "    plt.plot(epochs, train_acc,'b', label='Training accuracy')\n",
        "    plt.plot(epochs, val_acc,'b', color=\"orange\", label='Validation accuracy')\n",
        "    plt.title('Training and Validation Accuracy')\n",
        "    plt.xlabel('Epochs')\n",
        "    plt.ylabel('Accuracy')\n",
        "    plt.legend()\n",
        "    plt.show()\n",
        "\n",
        "def plot_confusion_matrix(conf_matrix):\n",
        "    fig, ax = plt.subplots(figsize=(7.5, 7.5))\n",
        "    ax.matshow(conf_matrix, cmap=plt.cm.Blues, alpha=0.3)\n",
        "    for i in range(conf_matrix.shape[0]):\n",
        "        for j in range(conf_matrix.shape[1]):\n",
        "            ax.text(x=j, y=i, s=conf_matrix[i, j], va='center', ha='center', size='xx-large')\n",
        "\n",
        "    plt.xlabel('Predicted Value', fontsize=18)\n",
        "    plt.ylabel('Actual Value', fontsize=18)\n",
        "    plt.title('Confusion Matrix', fontsize=18)\n",
        "    plt.show()"
      ],
      "metadata": {
        "id": "Ympz9FOJMD2B",
        "execution": {
          "iopub.status.busy": "2023-12-13T05:56:11.62404Z",
          "iopub.execute_input": "2023-12-13T05:56:11.62448Z",
          "iopub.status.idle": "2023-12-13T05:56:11.638186Z",
          "shell.execute_reply.started": "2023-12-13T05:56:11.624444Z",
          "shell.execute_reply": "2023-12-13T05:56:11.636796Z"
        },
        "trusted": true
      },
      "execution_count": null,
      "outputs": []
    },
    {
      "cell_type": "markdown",
      "source": [
        "**DATASET 1**"
      ],
      "metadata": {
        "id": "v_3vzp0X4WiU"
      }
    },
    {
      "cell_type": "code",
      "source": [
        "model = models.Sequential()\n",
        "model.add(layers.Conv1D(32, 1, activation = 'relu', input_shape = (1,4717)))\n",
        "model.add(layers.Conv1D(32, 1, activation = 'relu'))\n",
        "model.add(layers.Flatten())\n",
        "model.add(layers.Dense(1, activation = 'sigmoid'))\n",
        "model.summary()\n",
        "model.compile(optimizer = 'adam', loss = tf.keras.losses.BinaryCrossentropy(), metrics = ['accuracy'])\n",
        "\n",
        "X_train1 = X_train.reshape(-1, 1, 4717)\n",
        "X_test1 = X_test.reshape(-1, 1, 4717)\n",
        "\n",
        "history2 = model.fit(X_train1, y_train, epochs = 10, validation_data = (X_test1, y_test))"
      ],
      "metadata": {
        "id": "ob1MU562683W",
        "execution": {
          "iopub.status.busy": "2023-12-13T06:05:37.145937Z",
          "iopub.execute_input": "2023-12-13T06:05:37.147061Z",
          "iopub.status.idle": "2023-12-13T06:05:44.135239Z",
          "shell.execute_reply.started": "2023-12-13T06:05:37.147022Z",
          "shell.execute_reply": "2023-12-13T06:05:44.133952Z"
        },
        "trusted": true
      },
      "execution_count": null,
      "outputs": []
    },
    {
      "cell_type": "code",
      "source": [
        "y_pred = model.predict(X_test1).flatten()\n",
        "# y_pred1 = [1 if x>-0.5 else 0 for x in y_pred]\n",
        "y_pred = np.round(y_pred)\n",
        "print(f\"Accuracy of CNN on test set : {accuracy_score(y_pred, y_test)}\")\n",
        "print(f\"F1 Score of CNN on test set : {f1_score(y_pred, y_test)}\")\n",
        "\n",
        "f1_dict[\"CNN\"] = f1_score(y_pred, y_test)\n",
        "precision_dict[\"CNN\"] = precision_score(y_pred, y_test)\n",
        "recall_dict[\"CNN\"] = recall_score(y_pred, y_test)\n",
        "accuracy_dict['CNN'] = accuracy_score(y_pred, y_test)"
      ],
      "metadata": {
        "id": "rO6xSeVL683W",
        "execution": {
          "iopub.status.busy": "2023-12-13T06:06:06.447218Z",
          "iopub.execute_input": "2023-12-13T06:06:06.4478Z",
          "iopub.status.idle": "2023-12-13T06:06:06.742839Z",
          "shell.execute_reply.started": "2023-12-13T06:06:06.44776Z",
          "shell.execute_reply": "2023-12-13T06:06:06.741492Z"
        },
        "trusted": true
      },
      "execution_count": null,
      "outputs": []
    },
    {
      "cell_type": "code",
      "source": [
        "plot_model(model, show_shapes=True, to_file='CNN.png')"
      ],
      "metadata": {
        "id": "xCC1XeEzQfrx",
        "execution": {
          "iopub.status.busy": "2023-12-13T06:06:08.952959Z",
          "iopub.execute_input": "2023-12-13T06:06:08.953484Z",
          "iopub.status.idle": "2023-12-13T06:06:09.20103Z",
          "shell.execute_reply.started": "2023-12-13T06:06:08.953453Z",
          "shell.execute_reply": "2023-12-13T06:06:09.198794Z"
        },
        "trusted": true
      },
      "execution_count": null,
      "outputs": []
    },
    {
      "cell_type": "code",
      "source": [
        "plot_history(history2)\n",
        "plot_historyAcc(history2)"
      ],
      "metadata": {
        "id": "2fQh_rQwPuSK",
        "execution": {
          "iopub.status.busy": "2023-12-13T06:06:11.138388Z",
          "iopub.execute_input": "2023-12-13T06:06:11.13885Z",
          "iopub.status.idle": "2023-12-13T06:06:12.370664Z",
          "shell.execute_reply.started": "2023-12-13T06:06:11.138802Z",
          "shell.execute_reply": "2023-12-13T06:06:12.36925Z"
        },
        "trusted": true
      },
      "execution_count": null,
      "outputs": []
    },
    {
      "cell_type": "code",
      "source": [
        "\n",
        "conf_matrix_model = confusion_matrix(y_test, y_pred)\n",
        "plot_confusion_matrix(conf_matrix_model)\n",
        "print(classification_report(y_test, y_pred, target_names=[\"Non-Intrusion\", \"Intrusion\"]))"
      ],
      "metadata": {
        "id": "V0gGM_eashkp",
        "execution": {
          "iopub.status.busy": "2023-12-13T06:06:15.152463Z",
          "iopub.execute_input": "2023-12-13T06:06:15.153008Z",
          "iopub.status.idle": "2023-12-13T06:06:15.336018Z",
          "shell.execute_reply.started": "2023-12-13T06:06:15.152966Z",
          "shell.execute_reply": "2023-12-13T06:06:15.335195Z"
        },
        "trusted": true
      },
      "execution_count": null,
      "outputs": []
    },
    {
      "cell_type": "markdown",
      "source": [
        "**DATASET 2**"
      ],
      "metadata": {
        "id": "PLZBf0kD4WiW"
      }
    },
    {
      "cell_type": "code",
      "source": [
        "model2 = models.Sequential()\n",
        "model2.add(layers.Conv1D(32, 1, activation = 'relu', input_shape = (1,15321)))\n",
        "model2.add(layers.Conv1D(32, 1, activation = 'relu'))\n",
        "model2.add(layers.Flatten())\n",
        "model2.add(layers.Dense(1, activation = 'sigmoid'))\n",
        "model2.summary()\n",
        "model2.compile(optimizer = 'adam', loss = tf.keras.losses.BinaryCrossentropy(), metrics = ['accuracy'])\n",
        "\n",
        "X_train2 = X2_train.reshape(-1, 1, 15321)\n",
        "X_test2 = X2_test.reshape(-1, 1, 15321)\n",
        "\n",
        "history = model2.fit(X_train2, y2_train, epochs = 10, validation_data = (X_test2, y2_test))"
      ],
      "metadata": {
        "execution": {
          "iopub.status.busy": "2023-12-13T06:01:01.566226Z",
          "iopub.execute_input": "2023-12-13T06:01:01.566722Z",
          "iopub.status.idle": "2023-12-13T06:01:44.354657Z",
          "shell.execute_reply.started": "2023-12-13T06:01:01.566689Z",
          "shell.execute_reply": "2023-12-13T06:01:44.353825Z"
        },
        "trusted": true,
        "id": "ekGSVbfH4WiW"
      },
      "execution_count": null,
      "outputs": []
    },
    {
      "cell_type": "code",
      "source": [
        "y2_pred = model2.predict(X_test2).flatten()\n",
        "# y_pred1 = [1 if x>-0.5 else 0 for x in y_pred]\n",
        "y2_pred = np.round(y2_pred)\n",
        "print(f\"Accuracy of CNN on test set : {accuracy_score(y2_pred, y2_test)}\")\n",
        "print(f\"F1 Score of CNN on test set : {f1_score(y2_pred, y2_test)}\")\n",
        "\n",
        "f1_dict2[\"CNN\"] = f1_score(y2_pred, y2_test)\n",
        "precision_dict2[\"CNN\"] = precision_score(y2_pred, y2_test)\n",
        "recall_dict2[\"CNN\"] = recall_score(y2_pred, y2_test)\n",
        "accuracy_dict2['CNN'] = accuracy_score(y2_pred, y2_test)"
      ],
      "metadata": {
        "execution": {
          "iopub.status.busy": "2023-12-13T06:02:54.505429Z",
          "iopub.execute_input": "2023-12-13T06:02:54.50605Z",
          "iopub.status.idle": "2023-12-13T06:02:55.001871Z",
          "shell.execute_reply.started": "2023-12-13T06:02:54.505999Z",
          "shell.execute_reply": "2023-12-13T06:02:54.999099Z"
        },
        "trusted": true,
        "id": "351PBavD4WiW"
      },
      "execution_count": null,
      "outputs": []
    },
    {
      "cell_type": "code",
      "source": [
        "plot_model(model2, show_shapes=True, to_file='CNN2.png')"
      ],
      "metadata": {
        "execution": {
          "iopub.status.busy": "2023-12-13T06:02:58.10301Z",
          "iopub.execute_input": "2023-12-13T06:02:58.103478Z",
          "iopub.status.idle": "2023-12-13T06:02:59.447021Z",
          "shell.execute_reply.started": "2023-12-13T06:02:58.103438Z",
          "shell.execute_reply": "2023-12-13T06:02:59.445054Z"
        },
        "trusted": true,
        "id": "PdnZcD3_4WiX"
      },
      "execution_count": null,
      "outputs": []
    },
    {
      "cell_type": "code",
      "source": [
        "plot_history(history)\n",
        "plot_historyAcc(history)"
      ],
      "metadata": {
        "execution": {
          "iopub.status.busy": "2023-12-13T06:04:27.086357Z",
          "iopub.execute_input": "2023-12-13T06:04:27.086859Z",
          "iopub.status.idle": "2023-12-13T06:04:27.503475Z",
          "shell.execute_reply.started": "2023-12-13T06:04:27.086813Z",
          "shell.execute_reply": "2023-12-13T06:04:27.500853Z"
        },
        "trusted": true,
        "id": "bDCkbC8g4WiX"
      },
      "execution_count": null,
      "outputs": []
    },
    {
      "cell_type": "code",
      "source": [
        "conf_matrix_model2 = confusion_matrix(y2_test, y2_pred)\n",
        "plot_confusion_matrix(conf_matrix_model2)\n",
        "print(classification_report(y2_test, y2_pred, target_names=[\"Non-Intrusion\", \"Intrusion\"]))"
      ],
      "metadata": {
        "execution": {
          "iopub.status.busy": "2023-12-13T06:05:20.273628Z",
          "iopub.execute_input": "2023-12-13T06:05:20.275351Z",
          "iopub.status.idle": "2023-12-13T06:05:20.479338Z",
          "shell.execute_reply.started": "2023-12-13T06:05:20.275296Z",
          "shell.execute_reply": "2023-12-13T06:05:20.477523Z"
        },
        "trusted": true,
        "id": "cCL35Pxa4WiX"
      },
      "execution_count": null,
      "outputs": []
    },
    {
      "cell_type": "markdown",
      "source": [
        "**PLOT FINAL PARA LOS ESTADISTICOS RESULTANTES**"
      ],
      "metadata": {
        "id": "vYspWSN0T1J3"
      }
    },
    {
      "cell_type": "code",
      "source": [
        "keys2 = f1_dict, precision_dict, recall_dict, accuracy_dict\n",
        "metrics = ['F1_Score', 'Precision', 'Recall', 'Accuracy']\n",
        "data = pd.DataFrame(keys2)\n",
        "data.index = metrics\n",
        "data"
      ],
      "metadata": {
        "id": "1KwQysSpT0wL",
        "execution": {
          "iopub.status.busy": "2023-12-13T06:11:16.274043Z",
          "iopub.execute_input": "2023-12-13T06:11:16.274637Z",
          "iopub.status.idle": "2023-12-13T06:11:16.298878Z",
          "shell.execute_reply.started": "2023-12-13T06:11:16.274585Z",
          "shell.execute_reply": "2023-12-13T06:11:16.296734Z"
        },
        "trusted": true
      },
      "execution_count": null,
      "outputs": []
    },
    {
      "cell_type": "code",
      "source": [
        "result = data.plot(kind='bar', rot=0, figsize=(15, 7));\n",
        "result.legend(bbox_to_anchor=(1, 1.02), loc='upper left');"
      ],
      "metadata": {
        "id": "V7s1MQ3nT0ss",
        "execution": {
          "iopub.status.busy": "2023-12-13T06:11:18.727598Z",
          "iopub.execute_input": "2023-12-13T06:11:18.728182Z",
          "iopub.status.idle": "2023-12-13T06:11:19.021029Z",
          "shell.execute_reply.started": "2023-12-13T06:11:18.728145Z",
          "shell.execute_reply": "2023-12-13T06:11:19.018724Z"
        },
        "trusted": true
      },
      "execution_count": null,
      "outputs": []
    },
    {
      "cell_type": "code",
      "source": [
        "keys3 = f1_dict2, precision_dict2, recall_dict2, accuracy_dict2\n",
        "metrics2 = ['F1_Score', 'Precision', 'Recall', 'Accuracy']\n",
        "data2 = pd.DataFrame(keys3)\n",
        "data2.index = metrics2\n",
        "data2"
      ],
      "metadata": {
        "execution": {
          "iopub.status.busy": "2023-12-13T06:12:16.029995Z",
          "iopub.execute_input": "2023-12-13T06:12:16.030479Z",
          "iopub.status.idle": "2023-12-13T06:12:16.052649Z",
          "shell.execute_reply.started": "2023-12-13T06:12:16.030437Z",
          "shell.execute_reply": "2023-12-13T06:12:16.050158Z"
        },
        "trusted": true,
        "id": "ykwg_d954WiY"
      },
      "execution_count": null,
      "outputs": []
    },
    {
      "cell_type": "code",
      "source": [
        "result2 = data2.plot(kind='bar', rot=0, figsize=(15, 7));\n",
        "result2.legend(bbox_to_anchor=(1, 1.02), loc='upper left');"
      ],
      "metadata": {
        "execution": {
          "iopub.status.busy": "2023-12-13T06:12:18.809169Z",
          "iopub.execute_input": "2023-12-13T06:12:18.809694Z",
          "iopub.status.idle": "2023-12-13T06:12:19.085218Z",
          "shell.execute_reply.started": "2023-12-13T06:12:18.809653Z",
          "shell.execute_reply": "2023-12-13T06:12:19.083574Z"
        },
        "trusted": true,
        "id": "QtXUER2c4WiY"
      },
      "execution_count": null,
      "outputs": []
    },
    {
      "cell_type": "code",
      "source": [],
      "metadata": {
        "id": "k_YLjxVK4WiY"
      },
      "execution_count": null,
      "outputs": []
    }
  ]
}